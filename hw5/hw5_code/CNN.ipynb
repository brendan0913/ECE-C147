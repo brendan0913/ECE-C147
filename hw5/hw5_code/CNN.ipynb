{
 "cells": [
  {
   "cell_type": "markdown",
   "metadata": {},
   "source": [
    "# Convolutional neural networks\n",
    "\n",
    "In this notebook, we'll put together our convolutional layers to implement a 3-layer CNN.  Then, we'll ask you to implement a CNN that can achieve > 65% validation error on CIFAR-10.\n",
    "\n",
    "If you have not completed the Spatial BatchNorm Notebook, please see the following description from that notebook:\n",
    "\n",
    "Please copy and paste your prior implemented code from HW #4 to start this assignment.  If you did not correctly implement the layers in HW #4, you may collaborate with a classmate to use their layer implementations from HW #4.  You may also visit TA or Prof OH to correct your implementation.  \n",
    "\n",
    "You'll want to copy and paste from HW #4:\n",
    "    - layers.py for your FC network layers, as well as batchnorm and dropout.\n",
    "    - layer_utils.py for your combined FC network layers.\n",
    "    - optim.py for your optimizers.\n",
    "\n",
    "Be sure to place these in the `nndl/` directory so they're imported correctly.  Note, as announced in class, we will not be releasing our solutions."
   ]
  },
  {
   "cell_type": "code",
   "execution_count": 2,
   "metadata": {},
   "outputs": [
    {
     "name": "stdout",
     "output_type": "stream",
     "text": [
      "The autoreload extension is already loaded. To reload it, use:\n",
      "  %reload_ext autoreload\n"
     ]
    }
   ],
   "source": [
    "# As usual, a bit of setup\n",
    "\n",
    "import numpy as np\n",
    "import matplotlib.pyplot as plt\n",
    "from nndl.cnn import *\n",
    "from utils.data_utils import get_CIFAR10_data\n",
    "from utils.gradient_check import eval_numerical_gradient_array, eval_numerical_gradient\n",
    "from nndl.layers import *\n",
    "from nndl.conv_layers import *\n",
    "from utils.fast_layers import *\n",
    "from utils.solver import Solver\n",
    "\n",
    "%matplotlib inline\n",
    "plt.rcParams['figure.figsize'] = (10.0, 8.0) # set default size of plots\n",
    "plt.rcParams['image.interpolation'] = 'nearest'\n",
    "plt.rcParams['image.cmap'] = 'gray'\n",
    "\n",
    "# for auto-reloading external modules\n",
    "# see http://stackoverflow.com/questions/1907993/autoreload-of-modules-in-ipython\n",
    "%load_ext autoreload\n",
    "%autoreload 2\n",
    "\n",
    "def rel_error(x, y):\n",
    "  \"\"\" returns relative error \"\"\"\n",
    "  return np.max(np.abs(x - y) / (np.maximum(1e-8, np.abs(x) + np.abs(y))))"
   ]
  },
  {
   "cell_type": "code",
   "execution_count": 3,
   "metadata": {},
   "outputs": [
    {
     "name": "stdout",
     "output_type": "stream",
     "text": [
      "X_train: (49000, 3, 32, 32) \n",
      "y_train: (49000,) \n",
      "X_val: (1000, 3, 32, 32) \n",
      "y_val: (1000,) \n",
      "X_test: (1000, 3, 32, 32) \n",
      "y_test: (1000,) \n"
     ]
    }
   ],
   "source": [
    "# Load the (preprocessed) CIFAR10 data.\n",
    "\n",
    "data = get_CIFAR10_data()\n",
    "for k in data.keys():\n",
    "  print('{}: {} '.format(k, data[k].shape))"
   ]
  },
  {
   "cell_type": "markdown",
   "metadata": {},
   "source": [
    "## Three layer CNN\n",
    "\n",
    "In this notebook, you will implement a three layer CNN.  The `ThreeLayerConvNet` class is in `nndl/cnn.py`.  You'll need to modify that code for this section, including the initialization, as well as the calculation of the loss and gradients.  You should be able to use the building blocks you have either earlier coded or that we have provided.  Be sure to use the fast layers.\n",
    "\n",
    "The architecture of this CNN will be:\n",
    "\n",
    "conv - relu - 2x2 max pool - affine - relu - affine - softmax\n",
    "\n",
    "We won't use batchnorm yet.  You've also done enough of these to know how to debug; use the cells below.\n",
    "\n",
    "Note: As we are implementing several layers CNN networks. The gradient error can be expected for the `eval_numerical_gradient()` function. If your `W1 max relative error` and `W2 max relative error` are around or below 0.01, they should be acceptable. Other errors should be less than 1e-5. "
   ]
  },
  {
   "cell_type": "code",
   "execution_count": 57,
   "metadata": {},
   "outputs": [
    {
     "name": "stdout",
     "output_type": "stream",
     "text": [
      "W1 max relative error: 0.0008542047071485385\n",
      "W2 max relative error: 0.0004890474152414171\n",
      "W3 max relative error: 6.766600429490553e-06\n",
      "b1 max relative error: 2.217326003638511e-05\n",
      "b2 max relative error: 3.94244512737717e-08\n",
      "b3 max relative error: 1.386475678644343e-09\n"
     ]
    }
   ],
   "source": [
    "num_inputs = 2\n",
    "input_dim = (3, 16, 16)\n",
    "reg = 0.0\n",
    "num_classes = 10\n",
    "X = np.random.randn(num_inputs, *input_dim)\n",
    "y = np.random.randint(num_classes, size=num_inputs)\n",
    "\n",
    "model = ThreeLayerConvNet(num_filters=3, filter_size=3,\n",
    "                          input_dim=input_dim, hidden_dim=7,\n",
    "                          dtype=np.float64)\n",
    "loss, grads = model.loss(X, y)\n",
    "for param_name in sorted(grads):\n",
    "    f = lambda _: model.loss(X, y)[0]\n",
    "    param_grad_num = eval_numerical_gradient(f, model.params[param_name], verbose=False, h=1e-6)\n",
    "    e = rel_error(param_grad_num, grads[param_name])\n",
    "    print('{} max relative error: {}'.format(param_name, rel_error(param_grad_num, grads[param_name])))"
   ]
  },
  {
   "cell_type": "markdown",
   "metadata": {},
   "source": [
    "### Overfit small dataset\n",
    "\n",
    "To check your CNN implementation, let's overfit a small dataset."
   ]
  },
  {
   "cell_type": "code",
   "execution_count": 58,
   "metadata": {},
   "outputs": [
    {
     "name": "stdout",
     "output_type": "stream",
     "text": [
      "(Iteration 1 / 20) loss: 2.357512\n",
      "(Epoch 0 / 10) train acc: 0.150000; val_acc: 0.126000\n",
      "(Iteration 2 / 20) loss: 2.932379\n",
      "(Epoch 1 / 10) train acc: 0.200000; val_acc: 0.131000\n",
      "(Iteration 3 / 20) loss: 2.351277\n",
      "(Iteration 4 / 20) loss: 2.021465\n",
      "(Epoch 2 / 10) train acc: 0.480000; val_acc: 0.190000\n",
      "(Iteration 5 / 20) loss: 1.953078\n",
      "(Iteration 6 / 20) loss: 1.612692\n",
      "(Epoch 3 / 10) train acc: 0.570000; val_acc: 0.196000\n",
      "(Iteration 7 / 20) loss: 1.711191\n",
      "(Iteration 8 / 20) loss: 1.085145\n",
      "(Epoch 4 / 10) train acc: 0.550000; val_acc: 0.158000\n",
      "(Iteration 9 / 20) loss: 1.508036\n",
      "(Iteration 10 / 20) loss: 1.099567\n",
      "(Epoch 5 / 10) train acc: 0.720000; val_acc: 0.198000\n",
      "(Iteration 11 / 20) loss: 0.898851\n",
      "(Iteration 12 / 20) loss: 0.895582\n",
      "(Epoch 6 / 10) train acc: 0.840000; val_acc: 0.209000\n",
      "(Iteration 13 / 20) loss: 0.598804\n",
      "(Iteration 14 / 20) loss: 0.448797\n",
      "(Epoch 7 / 10) train acc: 0.800000; val_acc: 0.231000\n",
      "(Iteration 15 / 20) loss: 0.876180\n",
      "(Iteration 16 / 20) loss: 0.722372\n",
      "(Epoch 8 / 10) train acc: 0.880000; val_acc: 0.247000\n",
      "(Iteration 17 / 20) loss: 0.402560\n",
      "(Iteration 18 / 20) loss: 0.509233\n",
      "(Epoch 9 / 10) train acc: 0.910000; val_acc: 0.246000\n",
      "(Iteration 19 / 20) loss: 0.411652\n",
      "(Iteration 20 / 20) loss: 0.429783\n",
      "(Epoch 10 / 10) train acc: 0.980000; val_acc: 0.222000\n"
     ]
    }
   ],
   "source": [
    "num_train = 100\n",
    "small_data = {\n",
    "  'X_train': data['X_train'][:num_train],\n",
    "  'y_train': data['y_train'][:num_train],\n",
    "  'X_val': data['X_val'],\n",
    "  'y_val': data['y_val'],\n",
    "}\n",
    "\n",
    "model = ThreeLayerConvNet(weight_scale=1e-2)\n",
    "\n",
    "solver = Solver(model, small_data,\n",
    "                num_epochs=10, batch_size=50,\n",
    "                update_rule='adam',\n",
    "                optim_config={\n",
    "                  'learning_rate': 1e-3,\n",
    "                },\n",
    "                verbose=True, print_every=1)\n",
    "solver.train()"
   ]
  },
  {
   "cell_type": "code",
   "execution_count": 59,
   "metadata": {},
   "outputs": [
    {
     "data": {
      "image/png": "[encoded data removed]",
      "text/plain": [
       "<Figure size 1000x800 with 2 Axes>"
      ]
     },
     "metadata": {},
     "output_type": "display_data"
    }
   ],
   "source": [
    "plt.subplot(2, 1, 1)\n",
    "plt.plot(solver.loss_history, 'o')\n",
    "plt.xlabel('iteration')\n",
    "plt.ylabel('loss')\n",
    "\n",
    "plt.subplot(2, 1, 2)\n",
    "plt.plot(solver.train_acc_history, '-o')\n",
    "plt.plot(solver.val_acc_history, '-o')\n",
    "plt.legend(['train', 'val'], loc='upper left')\n",
    "plt.xlabel('epoch')\n",
    "plt.ylabel('accuracy')\n",
    "plt.show()"
   ]
  },
  {
   "cell_type": "markdown",
   "metadata": {},
   "source": [
    "## Train the network\n",
    "\n",
    "Now we train the 3 layer CNN on CIFAR-10 and assess its accuracy."
   ]
  },
  {
   "cell_type": "code",
   "execution_count": 64,
   "metadata": {
    "scrolled": false
   },
   "outputs": [
    {
     "name": "stdout",
     "output_type": "stream",
     "text": [
      "(Iteration 1 / 980) loss: 2.304756\n",
      "(Epoch 0 / 1) train acc: 0.107000; val_acc: 0.112000\n",
      "(Iteration 21 / 980) loss: 2.202013\n",
      "(Iteration 41 / 980) loss: 2.049808\n",
      "(Iteration 61 / 980) loss: 1.878591\n",
      "(Iteration 81 / 980) loss: 2.100942\n",
      "(Iteration 101 / 980) loss: 1.763225\n",
      "(Iteration 121 / 980) loss: 1.923981\n",
      "(Iteration 141 / 980) loss: 2.048874\n",
      "(Iteration 161 / 980) loss: 1.809491\n",
      "(Iteration 181 / 980) loss: 2.014150\n",
      "(Iteration 201 / 980) loss: 1.724650\n",
      "(Iteration 221 / 980) loss: 1.710246\n",
      "(Iteration 241 / 980) loss: 1.636040\n",
      "(Iteration 261 / 980) loss: 2.084851\n",
      "(Iteration 281 / 980) loss: 1.930749\n",
      "(Iteration 301 / 980) loss: 1.771768\n",
      "(Iteration 321 / 980) loss: 1.667101\n",
      "(Iteration 341 / 980) loss: 1.646237\n",
      "(Iteration 361 / 980) loss: 1.772351\n",
      "(Iteration 381 / 980) loss: 1.936586\n",
      "(Iteration 401 / 980) loss: 1.374713\n",
      "(Iteration 421 / 980) loss: 1.646301\n",
      "(Iteration 441 / 980) loss: 1.573109\n",
      "(Iteration 461 / 980) loss: 1.712331\n",
      "(Iteration 481 / 980) loss: 1.435039\n",
      "(Iteration 501 / 980) loss: 1.504138\n",
      "(Iteration 521 / 980) loss: 1.742027\n",
      "(Iteration 541 / 980) loss: 1.421509\n",
      "(Iteration 561 / 980) loss: 1.536095\n",
      "(Iteration 581 / 980) loss: 1.587538\n",
      "(Iteration 601 / 980) loss: 1.735481\n",
      "(Iteration 621 / 980) loss: 1.810468\n",
      "(Iteration 641 / 980) loss: 1.674482\n",
      "(Iteration 661 / 980) loss: 1.714118\n",
      "(Iteration 681 / 980) loss: 1.588084\n",
      "(Iteration 701 / 980) loss: 1.735320\n",
      "(Iteration 721 / 980) loss: 1.575969\n",
      "(Iteration 741 / 980) loss: 1.240698\n",
      "(Iteration 761 / 980) loss: 1.409613\n",
      "(Iteration 781 / 980) loss: 1.418835\n",
      "(Iteration 801 / 980) loss: 1.537635\n",
      "(Iteration 821 / 980) loss: 1.304083\n",
      "(Iteration 841 / 980) loss: 1.664136\n",
      "(Iteration 861 / 980) loss: 1.502191\n",
      "(Iteration 881 / 980) loss: 1.632431\n",
      "(Iteration 901 / 980) loss: 1.469633\n",
      "(Iteration 921 / 980) loss: 1.744118\n",
      "(Iteration 941 / 980) loss: 1.402994\n",
      "(Iteration 961 / 980) loss: 1.669644\n",
      "(Epoch 1 / 1) train acc: 0.465000; val_acc: 0.469000\n"
     ]
    }
   ],
   "source": [
    "model = ThreeLayerConvNet(weight_scale=0.001, hidden_dim=500, reg=0.001)\n",
    "\n",
    "solver = Solver(model, data,\n",
    "                num_epochs=1, batch_size=50,\n",
    "                update_rule='adam',\n",
    "                optim_config={\n",
    "                  'learning_rate': 1e-3,\n",
    "                },\n",
    "                verbose=True, print_every=20)\n",
    "solver.train()"
   ]
  },
  {
   "cell_type": "markdown",
   "metadata": {},
   "source": [
    "# Get > 65% validation accuracy on CIFAR-10.\n",
    "\n",
    "In the last part of the assignment, we'll now ask you to train a CNN to get better than 65% validation accuracy on CIFAR-10.\n",
    "\n",
    "### Things you should try:\n",
    "- Filter size: Above we used 7x7; but VGGNet and onwards showed stacks of 3x3 filters are good.  \n",
    "- Number of filters: Above we used 32 filters. Do more or fewer do better?\n",
    "- Batch normalization: Try adding spatial batch normalization after convolution layers and vanilla batch normalization aafter affine layers. Do your networks train faster?\n",
    "- Network architecture: Can a deeper CNN do better?  Consider these architectures:\n",
    "    - [conv-relu-pool]xN - conv - relu - [affine]xM - [softmax or SVM]\n",
    "    - [conv-relu-pool]XN - [affine]XM - [softmax or SVM]\n",
    "    - [conv-relu-conv-relu-pool]xN - [affine]xM - [softmax or SVM]\n",
    "\n",
    "### Tips for training\n",
    "For each network architecture that you try, you should tune the learning rate and regularization strength. When doing this there are a couple important things to keep in mind:\n",
    "\n",
    "- If the parameters are working well, you should see improvement within a few hundred iterations\n",
    "- Remember the coarse-to-fine approach for hyperparameter tuning: start by testing a large range of hyperparameters for just a few training iterations to find the combinations of parameters that are working at all.\n",
    "- Once you have found some sets of parameters that seem to work, search more finely around these parameters. You may need to train for more epochs."
   ]
  },
  {
   "cell_type": "code",
   "execution_count": 66,
   "metadata": {},
   "outputs": [
    {
     "name": "stdout",
     "output_type": "stream",
     "text": [
      "(Iteration 1 / 980) loss: 2.304614\n",
      "(Epoch 0 / 10) train acc: 0.228000; val_acc: 0.224000\n",
      "(Iteration 21 / 980) loss: 1.596177\n",
      "(Iteration 41 / 980) loss: 1.426527\n",
      "(Iteration 61 / 980) loss: 1.435928\n",
      "(Iteration 81 / 980) loss: 1.287795\n",
      "(Epoch 1 / 10) train acc: 0.638000; val_acc: 0.566000\n",
      "(Iteration 101 / 980) loss: 1.246876\n",
      "(Iteration 121 / 980) loss: 1.181536\n",
      "(Iteration 141 / 980) loss: 1.147989\n",
      "(Iteration 161 / 980) loss: 1.137388\n",
      "(Iteration 181 / 980) loss: 1.094934\n",
      "(Epoch 2 / 10) train acc: 0.661000; val_acc: 0.625000\n",
      "(Iteration 201 / 980) loss: 1.064896\n",
      "(Iteration 221 / 980) loss: 1.032609\n",
      "(Iteration 241 / 980) loss: 1.014800\n",
      "(Iteration 261 / 980) loss: 0.921793\n",
      "(Iteration 281 / 980) loss: 0.956561\n",
      "(Epoch 3 / 10) train acc: 0.737000; val_acc: 0.650000\n",
      "(Iteration 301 / 980) loss: 0.929511\n",
      "(Iteration 321 / 980) loss: 0.885943\n",
      "(Iteration 341 / 980) loss: 0.962241\n",
      "(Iteration 361 / 980) loss: 0.845772\n",
      "(Iteration 381 / 980) loss: 0.886433\n",
      "(Epoch 4 / 10) train acc: 0.762000; val_acc: 0.657000\n",
      "(Iteration 401 / 980) loss: 0.837336\n",
      "(Iteration 421 / 980) loss: 0.892782\n",
      "(Iteration 441 / 980) loss: 0.832856\n",
      "(Iteration 461 / 980) loss: 0.815616\n",
      "(Iteration 481 / 980) loss: 0.835599\n",
      "(Epoch 5 / 10) train acc: 0.793000; val_acc: 0.668000\n",
      "(Iteration 501 / 980) loss: 0.734404\n",
      "(Iteration 521 / 980) loss: 0.838730\n",
      "(Iteration 541 / 980) loss: 0.734107\n",
      "(Iteration 561 / 980) loss: 0.715803\n",
      "(Iteration 581 / 980) loss: 0.765392\n",
      "(Epoch 6 / 10) train acc: 0.829000; val_acc: 0.685000\n",
      "(Iteration 601 / 980) loss: 0.707300\n",
      "(Iteration 621 / 980) loss: 0.692557\n",
      "(Iteration 641 / 980) loss: 0.654190\n",
      "(Iteration 661 / 980) loss: 0.653373\n",
      "(Iteration 681 / 980) loss: 0.650290\n",
      "(Epoch 7 / 10) train acc: 0.850000; val_acc: 0.699000\n",
      "(Iteration 701 / 980) loss: 0.700956\n",
      "(Iteration 721 / 980) loss: 0.674887\n",
      "(Iteration 741 / 980) loss: 0.601462\n",
      "(Iteration 761 / 980) loss: 0.643344\n",
      "(Iteration 781 / 980) loss: 0.648743\n",
      "(Epoch 8 / 10) train acc: 0.880000; val_acc: 0.665000\n",
      "(Iteration 801 / 980) loss: 0.598982\n",
      "(Iteration 821 / 980) loss: 0.618375\n",
      "(Iteration 841 / 980) loss: 0.624425\n",
      "(Iteration 861 / 980) loss: 0.612457\n",
      "(Iteration 881 / 980) loss: 0.607874\n",
      "(Epoch 9 / 10) train acc: 0.873000; val_acc: 0.681000\n",
      "(Iteration 901 / 980) loss: 0.546300\n",
      "(Iteration 921 / 980) loss: 0.499625\n",
      "(Iteration 941 / 980) loss: 0.568108\n",
      "(Iteration 961 / 980) loss: 0.567807\n",
      "(Epoch 10 / 10) train acc: 0.905000; val_acc: 0.692000\n",
      "Validation set accuracy: 0.702\n"
     ]
    }
   ],
   "source": [
    "# ================================================================ #\n",
    "# YOUR CODE HERE:\n",
    "#   Implement a CNN to achieve greater than 65% validation accuracy\n",
    "#   on CIFAR-10.\n",
    "# ================================================================ #\n",
    "model = ThreeLayerConvNet(weight_scale=0.001, \n",
    "                          hidden_dim=500, \n",
    "                          reg=0.001,\n",
    "                          filter_size=3,\n",
    "                          use_batchnorm=True)\n",
    "\n",
    "solver = Solver(model, data,\n",
    "                num_epochs=10, batch_size=500,\n",
    "                update_rule='adam',\n",
    "                optim_config={\n",
    "                  'learning_rate': 1e-3,\n",
    "                },\n",
    "                lr_decay=0.95,\n",
    "                verbose=True, print_every=20)\n",
    "solver.train()\n",
    "\n",
    "y_val_max = np.argmax(model.loss(data['X_val']), axis=1)\n",
    "print('Validation set accuracy: {}'.format(np.mean(y_val_max == data['y_val'])))\n",
    "# ================================================================ #\n",
    "# END YOUR CODE HERE\n",
    "# ================================================================ #\n"
   ]
  }
 ],
 "metadata": {
  "kernelspec": {
   "display_name": "Python 3 (ipykernel)",
   "language": "python",
   "name": "python3"
  },
  "language_info": {
   "codemirror_mode": {
    "name": "ipython",
    "version": 3
   },
   "file_extension": ".py",
   "mimetype": "text/x-python",
   "name": "python",
   "nbconvert_exporter": "python",
   "pygments_lexer": "ipython3",
   "version": "3.9.13"
  },
  "pycharm": {
   "stem_cell": {
    "cell_type": "raw",
    "metadata": {
     "collapsed": false
    },
    "source": []
   }
  }
 },
 "nbformat": 4,
 "nbformat_minor": 2
}

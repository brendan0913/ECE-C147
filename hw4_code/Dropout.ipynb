{
 "cells": [
  {
   "cell_type": "markdown",
   "metadata": {},
   "source": [
    "# Dropout\n",
    "\n",
    "In this notebook, you will implement dropout.  Then we will ask you to train a network with batchnorm and dropout, and acheive over 55% accuracy on CIFAR-10.\n",
    "\n",
    "Utils has a solid API for building these modular frameworks and training them, and we will use this very well implemented framework as opposed to \"reinventing the wheel.\"  This includes using the Solver, various utility functions, and the layer structure.  This also includes nndl.fc_net, nndl.layers, and nndl.layer_utils."
   ]
  },
  {
   "cell_type": "code",
   "execution_count": 1,
   "metadata": {},
   "outputs": [],
   "source": [
    "## Import and setups\n",
    "\n",
    "import time\n",
    "import numpy as np\n",
    "import matplotlib.pyplot as plt\n",
    "from nndl.fc_net import *\n",
    "from nndl.layers import *\n",
    "from utils.data_utils import get_CIFAR10_data\n",
    "from utils.gradient_check import eval_numerical_gradient, eval_numerical_gradient_array\n",
    "from utils.solver import Solver\n",
    "\n",
    "%matplotlib inline\n",
    "plt.rcParams['figure.figsize'] = (10.0, 8.0) # set default size of plots\n",
    "plt.rcParams['image.interpolation'] = 'nearest'\n",
    "plt.rcParams['image.cmap'] = 'gray'\n",
    "\n",
    "# for auto-reloading external modules\n",
    "# see http://stackoverflow.com/questions/1907993/autoreload-of-modules-in-ipython\n",
    "%load_ext autoreload\n",
    "%autoreload 2\n",
    "\n",
    "def rel_error(x, y):\n",
    "    \"\"\" returns relative error \"\"\"\n",
    "    return np.max(np.abs(x - y) / (np.maximum(1e-8, np.abs(x) + np.abs(y))))"
   ]
  },
  {
   "cell_type": "code",
   "execution_count": 2,
   "metadata": {},
   "outputs": [
    {
     "name": "stdout",
     "output_type": "stream",
     "text": [
      "X_train: (49000, 3, 32, 32) \n",
      "y_train: (49000,) \n",
      "X_val: (1000, 3, 32, 32) \n",
      "y_val: (1000,) \n",
      "X_test: (1000, 3, 32, 32) \n",
      "y_test: (1000,) \n"
     ]
    }
   ],
   "source": [
    "# Load the (preprocessed) CIFAR10 data.\n",
    "\n",
    "data = get_CIFAR10_data()\n",
    "for k in data.keys():\n",
    "    print('{}: {} '.format(k, data[k].shape))"
   ]
  },
  {
   "cell_type": "markdown",
   "metadata": {},
   "source": [
    "## Dropout forward pass\n",
    "\n",
    "Implement the training and test time dropout forward pass, `dropout_forward`, in `nndl/layers.py`. After that, test your implementation by running the following cell."
   ]
  },
  {
   "cell_type": "code",
   "execution_count": 65,
   "metadata": {},
   "outputs": [
    {
     "name": "stdout",
     "output_type": "stream",
     "text": [
      "Running tests with p =  0.3\n",
      "Mean of input:  10.002174918476616\n",
      "Mean of train-time output:  9.993513678023765\n",
      "Mean of test-time output:  10.002174918476616\n",
      "Fraction of train-time output set to zero:  0.700284\n",
      "Fraction of test-time output set to zero:  0.0\n",
      "Running tests with p =  0.6\n",
      "Mean of input:  10.002174918476616\n",
      "Mean of train-time output:  10.005049747529467\n",
      "Mean of test-time output:  10.002174918476616\n",
      "Fraction of train-time output set to zero:  0.399692\n",
      "Fraction of test-time output set to zero:  0.0\n",
      "Running tests with p =  0.75\n",
      "Mean of input:  10.002174918476616\n",
      "Mean of train-time output:  10.006297614575843\n",
      "Mean of test-time output:  10.002174918476616\n",
      "Fraction of train-time output set to zero:  0.24988\n",
      "Fraction of test-time output set to zero:  0.0\n"
     ]
    }
   ],
   "source": [
    "x = np.random.randn(500, 500) + 10\n",
    "\n",
    "for p in [0.3, 0.6, 0.75]:\n",
    "    out, _ = dropout_forward(x, {'mode': 'train', 'p': p})\n",
    "    out_test, _ = dropout_forward(x, {'mode': 'test', 'p': p})\n",
    "\n",
    "    print('Running tests with p = ', p)\n",
    "    print('Mean of input: ', x.mean())\n",
    "    print('Mean of train-time output: ', out.mean())\n",
    "    print('Mean of test-time output: ', out_test.mean())\n",
    "    print('Fraction of train-time output set to zero: ', (out == 0).mean())\n",
    "    print('Fraction of test-time output set to zero: ', (out_test == 0).mean())"
   ]
  },
  {
   "cell_type": "markdown",
   "metadata": {},
   "source": [
    "## Dropout backward pass\n",
    "\n",
    "Implement the backward pass, `dropout_backward`, in `nndl/layers.py`.  After that, test your gradients by running the following cell:"
   ]
  },
  {
   "cell_type": "code",
   "execution_count": 68,
   "metadata": {},
   "outputs": [
    {
     "name": "stdout",
     "output_type": "stream",
     "text": [
      "dx relative error:  5.4456108919504717e-11\n"
     ]
    }
   ],
   "source": [
    "x = np.random.randn(10, 10) + 10\n",
    "dout = np.random.randn(*x.shape)\n",
    "\n",
    "dropout_param = {'mode': 'train', 'p': 0.8, 'seed': 123}\n",
    "out, cache = dropout_forward(x, dropout_param)\n",
    "dx = dropout_backward(dout, cache)\n",
    "dx_num = eval_numerical_gradient_array(lambda xx: dropout_forward(xx, dropout_param)[0], x, dout)\n",
    "\n",
    "print('dx relative error: ', rel_error(dx, dx_num))"
   ]
  },
  {
   "cell_type": "markdown",
   "metadata": {},
   "source": [
    "## Implement a fully connected neural network with dropout layers\n",
    "\n",
    "Modify the `FullyConnectedNet()` class in `nndl/fc_net.py` to incorporate dropout.  A dropout layer should be incorporated after every ReLU layer.  Concretely, there shouldn't be a dropout at the output layer since there is no ReLU at the output layer. You will need to modify the class in the following areas:\n",
    "\n",
    "(1) In the forward pass, you will need to incorporate a dropout layer after every relu layer.\n",
    "\n",
    "(2) In the backward pass, you will need to incorporate a dropout backward pass layer.\n",
    "\n",
    "Check your implementation by running the following code.  Our W1 gradient relative error is on the order of 1e-6 (the largest of all the relative errors)."
   ]
  },
  {
   "cell_type": "code",
   "execution_count": 73,
   "metadata": {},
   "outputs": [
    {
     "name": "stdout",
     "output_type": "stream",
     "text": [
      "Running check with dropout =  0.5\n",
      "Initial loss:  2.2978802381633017\n",
      "W1 relative error: 1.4081197358343105e-06\n",
      "W2 relative error: 2.2537390027621073e-08\n",
      "W3 relative error: 4.1035828818284274e-08\n",
      "b1 relative error: 3.0008797991394704e-08\n",
      "b2 relative error: 1.154024377991818e-09\n",
      "b3 relative error: 1.2912061432212848e-10\n",
      "\n",
      "\n",
      "Running check with dropout =  0.75\n",
      "Initial loss:  2.308234140616203\n",
      "W1 relative error: 2.6453375662528657e-07\n",
      "W2 relative error: 2.2868666671395663e-07\n",
      "W3 relative error: 2.2239751604049376e-07\n",
      "b1 relative error: 7.112910572926549e-09\n",
      "b2 relative error: 5.347954717817801e-09\n",
      "b3 relative error: 1.0886215791527195e-10\n",
      "\n",
      "\n",
      "Running check with dropout =  1.0\n",
      "Initial loss:  2.3066226083055312\n",
      "W1 relative error: 2.998747146522704e-07\n",
      "W2 relative error: 5.530329156238169e-07\n",
      "W3 relative error: 8.243368547047246e-08\n",
      "b1 relative error: 1.5773080094048574e-08\n",
      "b2 relative error: 6.4687893661983096e-09\n",
      "b3 relative error: 1.223192314770519e-10\n",
      "\n",
      "\n"
     ]
    }
   ],
   "source": [
    "N, D, H1, H2, C = 2, 15, 20, 30, 10\n",
    "X = np.random.randn(N, D)\n",
    "y = np.random.randint(C, size=(N,))\n",
    "\n",
    "for dropout in [0.5, 0.75, 1.0]:\n",
    "    print('Running check with dropout = ', dropout)\n",
    "    model = FullyConnectedNet([H1, H2], input_dim=D, num_classes=C,\n",
    "                              weight_scale=5e-2, dtype=np.float64,\n",
    "                              dropout=dropout, seed=123)\n",
    "\n",
    "    loss, grads = model.loss(X, y)\n",
    "    print('Initial loss: ', loss)\n",
    "\n",
    "    for name in sorted(grads):\n",
    "        f = lambda _: model.loss(X, y)[0]\n",
    "        grad_num = eval_numerical_gradient(f, model.params[name], verbose=False, h=1e-5)\n",
    "        print('{} relative error: {}'.format(name, rel_error(grad_num, grads[name])))\n",
    "    print('\\n')"
   ]
  },
  {
   "cell_type": "markdown",
   "metadata": {},
   "source": [
    "## Dropout as a regularizer\n",
    "\n",
    "In class, we claimed that dropout acts as a regularizer by effectively bagging.  To check this, we will train two small networks, one with dropout and one without dropout.  "
   ]
  },
  {
   "cell_type": "code",
   "execution_count": 76,
   "metadata": {},
   "outputs": [
    {
     "name": "stdout",
     "output_type": "stream",
     "text": [
      "(Iteration 1 / 125) loss: 2.304661\n",
      "(Epoch 0 / 25) train acc: 0.172000; val_acc: 0.161000\n",
      "(Epoch 1 / 25) train acc: 0.160000; val_acc: 0.152000\n",
      "(Epoch 2 / 25) train acc: 0.214000; val_acc: 0.157000\n",
      "(Epoch 3 / 25) train acc: 0.238000; val_acc: 0.201000\n",
      "(Epoch 4 / 25) train acc: 0.264000; val_acc: 0.227000\n",
      "(Epoch 5 / 25) train acc: 0.334000; val_acc: 0.263000\n",
      "(Epoch 6 / 25) train acc: 0.354000; val_acc: 0.250000\n",
      "(Epoch 7 / 25) train acc: 0.360000; val_acc: 0.290000\n",
      "(Epoch 8 / 25) train acc: 0.388000; val_acc: 0.300000\n",
      "(Epoch 9 / 25) train acc: 0.398000; val_acc: 0.287000\n",
      "(Epoch 10 / 25) train acc: 0.418000; val_acc: 0.298000\n",
      "(Epoch 11 / 25) train acc: 0.464000; val_acc: 0.314000\n",
      "(Epoch 12 / 25) train acc: 0.488000; val_acc: 0.297000\n",
      "(Epoch 13 / 25) train acc: 0.524000; val_acc: 0.308000\n",
      "(Epoch 14 / 25) train acc: 0.544000; val_acc: 0.329000\n",
      "(Epoch 15 / 25) train acc: 0.546000; val_acc: 0.320000\n",
      "(Epoch 16 / 25) train acc: 0.596000; val_acc: 0.311000\n",
      "(Epoch 17 / 25) train acc: 0.588000; val_acc: 0.314000\n",
      "(Epoch 18 / 25) train acc: 0.610000; val_acc: 0.307000\n",
      "(Epoch 19 / 25) train acc: 0.646000; val_acc: 0.317000\n",
      "(Epoch 20 / 25) train acc: 0.658000; val_acc: 0.333000\n",
      "(Iteration 101 / 125) loss: 1.256360\n",
      "(Epoch 21 / 25) train acc: 0.702000; val_acc: 0.340000\n",
      "(Epoch 22 / 25) train acc: 0.718000; val_acc: 0.303000\n",
      "(Epoch 23 / 25) train acc: 0.718000; val_acc: 0.307000\n",
      "(Epoch 24 / 25) train acc: 0.748000; val_acc: 0.315000\n",
      "(Epoch 25 / 25) train acc: 0.744000; val_acc: 0.315000\n",
      "(Iteration 1 / 125) loss: 2.301245\n",
      "(Epoch 0 / 25) train acc: 0.182000; val_acc: 0.149000\n",
      "(Epoch 1 / 25) train acc: 0.228000; val_acc: 0.189000\n",
      "(Epoch 2 / 25) train acc: 0.258000; val_acc: 0.202000\n",
      "(Epoch 3 / 25) train acc: 0.326000; val_acc: 0.263000\n",
      "(Epoch 4 / 25) train acc: 0.376000; val_acc: 0.279000\n",
      "(Epoch 5 / 25) train acc: 0.422000; val_acc: 0.325000\n",
      "(Epoch 6 / 25) train acc: 0.432000; val_acc: 0.282000\n",
      "(Epoch 7 / 25) train acc: 0.512000; val_acc: 0.313000\n",
      "(Epoch 8 / 25) train acc: 0.528000; val_acc: 0.295000\n",
      "(Epoch 9 / 25) train acc: 0.558000; val_acc: 0.325000\n",
      "(Epoch 10 / 25) train acc: 0.642000; val_acc: 0.307000\n",
      "(Epoch 11 / 25) train acc: 0.708000; val_acc: 0.328000\n",
      "(Epoch 12 / 25) train acc: 0.692000; val_acc: 0.333000\n",
      "(Epoch 13 / 25) train acc: 0.776000; val_acc: 0.306000\n",
      "(Epoch 14 / 25) train acc: 0.802000; val_acc: 0.331000\n",
      "(Epoch 15 / 25) train acc: 0.846000; val_acc: 0.307000\n",
      "(Epoch 16 / 25) train acc: 0.874000; val_acc: 0.319000\n",
      "(Epoch 17 / 25) train acc: 0.888000; val_acc: 0.308000\n",
      "(Epoch 18 / 25) train acc: 0.944000; val_acc: 0.318000\n",
      "(Epoch 19 / 25) train acc: 0.938000; val_acc: 0.294000\n",
      "(Epoch 20 / 25) train acc: 0.956000; val_acc: 0.305000\n",
      "(Iteration 101 / 125) loss: 0.154943\n",
      "(Epoch 21 / 25) train acc: 0.968000; val_acc: 0.308000\n",
      "(Epoch 22 / 25) train acc: 0.968000; val_acc: 0.282000\n",
      "(Epoch 23 / 25) train acc: 0.984000; val_acc: 0.290000\n",
      "(Epoch 24 / 25) train acc: 0.980000; val_acc: 0.286000\n",
      "(Epoch 25 / 25) train acc: 0.990000; val_acc: 0.303000\n"
     ]
    }
   ],
   "source": [
    "# Train two identical nets, one with dropout and one without\n",
    "\n",
    "num_train = 500\n",
    "small_data = {\n",
    "    'X_train': data['X_train'][:num_train],\n",
    "    'y_train': data['y_train'][:num_train],\n",
    "    'X_val': data['X_val'],\n",
    "    'y_val': data['y_val'],\n",
    "}\n",
    "\n",
    "solvers = {}\n",
    "dropout_choices = [0.6, 1.0]\n",
    "for dropout in dropout_choices:\n",
    "    model = FullyConnectedNet([100, 100, 100], dropout=dropout)\n",
    "\n",
    "    solver = Solver(model, small_data,\n",
    "                    num_epochs=25, batch_size=100,\n",
    "                    update_rule='adam',\n",
    "                    optim_config={\n",
    "                      'learning_rate': 5e-4,\n",
    "                    },\n",
    "                    verbose=True, print_every=100)\n",
    "    solver.train()\n",
    "    solvers[dropout] = solver"
   ]
  },
  {
   "cell_type": "code",
   "execution_count": 77,
   "metadata": {},
   "outputs": [
    {
     "data": {
      "image/png": "[encoded data removed]",
      "text/plain": [
       "<Figure size 1500x1500 with 2 Axes>"
      ]
     },
     "metadata": {},
     "output_type": "display_data"
    }
   ],
   "source": [
    "# Plot train and validation accuracies of the two models\n",
    "\n",
    "train_accs = []\n",
    "val_accs = []\n",
    "for dropout in dropout_choices:\n",
    "    solver = solvers[dropout]\n",
    "    train_accs.append(solver.train_acc_history[-1])\n",
    "    val_accs.append(solver.val_acc_history[-1])\n",
    "\n",
    "plt.subplot(3, 1, 1)\n",
    "for dropout in dropout_choices:\n",
    "    plt.plot(solvers[dropout].train_acc_history, 'o', label='%.2f dropout' % dropout)\n",
    "plt.title('Train accuracy')\n",
    "plt.xlabel('Epoch')\n",
    "plt.ylabel('Accuracy')\n",
    "plt.legend(ncol=2, loc='lower right')\n",
    "  \n",
    "plt.subplot(3, 1, 2)\n",
    "for dropout in dropout_choices:\n",
    "    plt.plot(solvers[dropout].val_acc_history, 'o', label='%.2f dropout' % dropout)\n",
    "plt.title('Val accuracy')\n",
    "plt.xlabel('Epoch')\n",
    "plt.ylabel('Accuracy')\n",
    "plt.legend(ncol=2, loc='lower right')\n",
    "\n",
    "plt.gcf().set_size_inches(15, 15)\n",
    "plt.show()"
   ]
  },
  {
   "cell_type": "markdown",
   "metadata": {},
   "source": [
    "## Question\n",
    "\n",
    "Based off the results of this experiment, is dropout performing regularization?  Explain your answer."
   ]
  },
  {
   "cell_type": "markdown",
   "metadata": {},
   "source": [
    "## Answer:\n",
    "Yes dropout is performing regularization. The dropout model's training accuracy is lower than the training accuracy of the model without dropout. However, the validation accuracy for the model with dropout and the one without dropout are similar, with the accuracy for the model with dropout marginally higher. \n",
    "\n",
    "By randomly keeping certian neurons in each layer and dropping others, dropout regularizes each hidden unit, so it performs worse on the training set (prevents overfitting), but generalizes well."
   ]
  },
  {
   "cell_type": "markdown",
   "metadata": {},
   "source": [
    "##### Final part of the assignment\n",
    "\n",
    "Get over 55% validation accuracy on CIFAR-10 by using the layers you have implemented.  You will be graded according to the following equation:\n",
    "\n",
    "min(floor((X - 32%)) / 23%, 1) \n",
    "where if you get 55% or higher validation accuracy, you get full points."
   ]
  },
  {
   "cell_type": "code",
   "execution_count": 82,
   "metadata": {
    "scrolled": false
   },
   "outputs": [
    {
     "name": "stdout",
     "output_type": "stream",
     "text": [
      "(Iteration 1 / 4900) loss: 2.292121\n",
      "(Epoch 0 / 10) train acc: 0.114000; val_acc: 0.150000\n",
      "(Iteration 101 / 4900) loss: 1.773295\n",
      "(Iteration 201 / 4900) loss: 1.733659\n",
      "(Iteration 301 / 4900) loss: 1.427775\n",
      "(Iteration 401 / 4900) loss: 1.566295\n",
      "(Epoch 1 / 10) train acc: 0.482000; val_acc: 0.458000\n",
      "(Iteration 501 / 4900) loss: 1.515206\n",
      "(Iteration 601 / 4900) loss: 1.494222\n",
      "(Iteration 701 / 4900) loss: 1.363037\n",
      "(Iteration 801 / 4900) loss: 1.538717\n",
      "(Iteration 901 / 4900) loss: 1.481794\n",
      "(Epoch 2 / 10) train acc: 0.548000; val_acc: 0.505000\n",
      "(Iteration 1001 / 4900) loss: 1.262693\n",
      "(Iteration 1101 / 4900) loss: 1.433086\n",
      "(Iteration 1201 / 4900) loss: 1.311563\n",
      "(Iteration 1301 / 4900) loss: 1.272225\n",
      "(Iteration 1401 / 4900) loss: 1.522078\n",
      "(Epoch 3 / 10) train acc: 0.573000; val_acc: 0.535000\n",
      "(Iteration 1501 / 4900) loss: 1.525663\n",
      "(Iteration 1601 / 4900) loss: 1.280905\n",
      "(Iteration 1701 / 4900) loss: 1.384414\n",
      "(Iteration 1801 / 4900) loss: 1.379152\n",
      "(Iteration 1901 / 4900) loss: 1.199921\n",
      "(Epoch 4 / 10) train acc: 0.605000; val_acc: 0.545000\n",
      "(Iteration 2001 / 4900) loss: 1.352608\n",
      "(Iteration 2101 / 4900) loss: 1.364915\n",
      "(Iteration 2201 / 4900) loss: 1.291313\n",
      "(Iteration 2301 / 4900) loss: 1.450335\n",
      "(Iteration 2401 / 4900) loss: 1.384681\n",
      "(Epoch 5 / 10) train acc: 0.582000; val_acc: 0.559000\n",
      "(Iteration 2501 / 4900) loss: 1.266438\n",
      "(Iteration 2601 / 4900) loss: 1.174278\n",
      "(Iteration 2701 / 4900) loss: 1.252372\n",
      "(Iteration 2801 / 4900) loss: 1.155900\n",
      "(Iteration 2901 / 4900) loss: 1.158258\n",
      "(Epoch 6 / 10) train acc: 0.621000; val_acc: 0.544000\n",
      "(Iteration 3001 / 4900) loss: 1.406104\n",
      "(Iteration 3101 / 4900) loss: 1.145299\n",
      "(Iteration 3201 / 4900) loss: 1.225850\n",
      "(Iteration 3301 / 4900) loss: 1.073854\n",
      "(Iteration 3401 / 4900) loss: 1.106886\n",
      "(Epoch 7 / 10) train acc: 0.620000; val_acc: 0.574000\n",
      "(Iteration 3501 / 4900) loss: 1.209218\n",
      "(Iteration 3601 / 4900) loss: 1.043238\n",
      "(Iteration 3701 / 4900) loss: 1.048003\n",
      "(Iteration 3801 / 4900) loss: 1.144852\n",
      "(Iteration 3901 / 4900) loss: 1.284600\n",
      "(Epoch 8 / 10) train acc: 0.655000; val_acc: 0.576000\n",
      "(Iteration 4001 / 4900) loss: 1.293231\n",
      "(Iteration 4101 / 4900) loss: 1.043855\n",
      "(Iteration 4201 / 4900) loss: 1.208897\n",
      "(Iteration 4301 / 4900) loss: 1.079893\n",
      "(Iteration 4401 / 4900) loss: 0.865561\n",
      "(Epoch 9 / 10) train acc: 0.673000; val_acc: 0.593000\n",
      "(Iteration 4501 / 4900) loss: 1.045189\n",
      "(Iteration 4601 / 4900) loss: 1.061051\n",
      "(Iteration 4701 / 4900) loss: 1.077428\n",
      "(Iteration 4801 / 4900) loss: 1.226060\n",
      "(Epoch 10 / 10) train acc: 0.709000; val_acc: 0.582000\n",
      "Validation set accuracy: 0.59\n",
      "Test set accuracy: 0.584\n"
     ]
    }
   ],
   "source": [
    "# ================================================================ #\n",
    "# YOUR CODE HERE:\n",
    "#   Implement a FC-net that achieves at least 55% validation accuracy\n",
    "#   on CIFAR-10.\n",
    "# ================================================================ #\n",
    "\n",
    "optimizer = 'adam'\n",
    "\n",
    "layer_dims = [500, 500, 500]\n",
    "weight_scale = 0.01\n",
    "learning_rate = 2e-3\n",
    "lr_decay = 0.95\n",
    "dropout = 0.7\n",
    "reg_factor = 0\n",
    "\n",
    "model = FullyConnectedNet(layer_dims, weight_scale=weight_scale, dropout=dropout, reg=reg_factor, use_batchnorm=True)\n",
    "\n",
    "solver = Solver(model, data,\n",
    "                num_epochs=10, batch_size=100,\n",
    "                update_rule=optimizer,\n",
    "                optim_config={\n",
    "                  'learning_rate': learning_rate,\n",
    "                },\n",
    "                lr_decay=lr_decay,\n",
    "                verbose=True, print_every=100)\n",
    "solver.train()\n",
    "\n",
    "y_test_pred = np.argmax(model.loss(data['X_test']), axis=1)\n",
    "y_val_pred = np.argmax(model.loss(data['X_val']), axis=1)\n",
    "print('Validation set accuracy: {}'.format(np.mean(y_val_pred == data['y_val'])))\n",
    "print('Test set accuracy: {}'.format(np.mean(y_test_pred == data['y_test'])))\n",
    "# ================================================================ #\n",
    "# END YOUR CODE HERE\n",
    "# ================================================================ #"
   ]
  },
  {
   "cell_type": "code",
   "execution_count": null,
   "metadata": {},
   "outputs": [],
   "source": []
  }
 ],
 "metadata": {
  "kernelspec": {
   "display_name": "Python 3 (ipykernel)",
   "language": "python",
   "name": "python3"
  },
  "language_info": {
   "codemirror_mode": {
    "name": "ipython",
    "version": 3
   },
   "file_extension": ".py",
   "mimetype": "text/x-python",
   "name": "python",
   "nbconvert_exporter": "python",
   "pygments_lexer": "ipython3",
   "version": "3.9.13"
  }
 },
 "nbformat": 4,
 "nbformat_minor": 2
}
